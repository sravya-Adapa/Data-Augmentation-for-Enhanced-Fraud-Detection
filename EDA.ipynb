{
 "cells": [
  {
   "cell_type": "code",
   "execution_count": 1,
   "id": "20028065-14de-4360-ba77-2a5bbaf30171",
   "metadata": {},
   "outputs": [
    {
     "name": "stdout",
     "output_type": "stream",
     "text": [
      "Requirement already satisfied: imbalanced-learn in /opt/anaconda3/lib/python3.12/site-packages (0.12.4)\n",
      "Requirement already satisfied: numpy>=1.17.3 in /opt/anaconda3/lib/python3.12/site-packages (from imbalanced-learn) (1.26.4)\n",
      "Requirement already satisfied: scipy>=1.5.0 in /opt/anaconda3/lib/python3.12/site-packages (from imbalanced-learn) (1.14.1)\n",
      "Requirement already satisfied: scikit-learn>=1.0.2 in /opt/anaconda3/lib/python3.12/site-packages (from imbalanced-learn) (1.5.2)\n",
      "Requirement already satisfied: joblib>=1.1.1 in /opt/anaconda3/lib/python3.12/site-packages (from imbalanced-learn) (1.4.2)\n",
      "Requirement already satisfied: threadpoolctl>=2.0.0 in /opt/anaconda3/lib/python3.12/site-packages (from imbalanced-learn) (3.5.0)\n"
     ]
    }
   ],
   "source": [
    "import numpy as np \n",
    "import pandas as pd \n",
    "import matplotlib.pyplot as plt\n",
    "import seaborn as sns\n",
    "!pip install imbalanced-learn"
   ]
  },
  {
   "cell_type": "code",
   "execution_count": 3,
   "id": "faef004b-ec19-4d5d-a722-3136a7d93de3",
   "metadata": {},
   "outputs": [],
   "source": [
    "df = pd.read_csv(\"credit_card_fraud_dataset.csv\")"
   ]
  },
  {
   "cell_type": "code",
   "execution_count": 5,
   "id": "b1c27a7b-7000-448f-be90-356d6a40fd74",
   "metadata": {},
   "outputs": [
    {
     "data": {
      "text/html": [
       "<div>\n",
       "<style scoped>\n",
       "    .dataframe tbody tr th:only-of-type {\n",
       "        vertical-align: middle;\n",
       "    }\n",
       "\n",
       "    .dataframe tbody tr th {\n",
       "        vertical-align: top;\n",
       "    }\n",
       "\n",
       "    .dataframe thead th {\n",
       "        text-align: right;\n",
       "    }\n",
       "</style>\n",
       "<table border=\"1\" class=\"dataframe\">\n",
       "  <thead>\n",
       "    <tr style=\"text-align: right;\">\n",
       "      <th></th>\n",
       "      <th>TransactionID</th>\n",
       "      <th>TransactionDate</th>\n",
       "      <th>Amount</th>\n",
       "      <th>MerchantID</th>\n",
       "      <th>TransactionType</th>\n",
       "      <th>Location</th>\n",
       "      <th>IsFraud</th>\n",
       "    </tr>\n",
       "  </thead>\n",
       "  <tbody>\n",
       "    <tr>\n",
       "      <th>0</th>\n",
       "      <td>1</td>\n",
       "      <td>2024-04-03 14:15:35.462794</td>\n",
       "      <td>4189.27</td>\n",
       "      <td>688</td>\n",
       "      <td>refund</td>\n",
       "      <td>San Antonio</td>\n",
       "      <td>0</td>\n",
       "    </tr>\n",
       "    <tr>\n",
       "      <th>1</th>\n",
       "      <td>2</td>\n",
       "      <td>2024-03-19 13:20:35.462824</td>\n",
       "      <td>2659.71</td>\n",
       "      <td>109</td>\n",
       "      <td>refund</td>\n",
       "      <td>Dallas</td>\n",
       "      <td>0</td>\n",
       "    </tr>\n",
       "    <tr>\n",
       "      <th>2</th>\n",
       "      <td>3</td>\n",
       "      <td>2024-01-08 10:08:35.462834</td>\n",
       "      <td>784.00</td>\n",
       "      <td>394</td>\n",
       "      <td>purchase</td>\n",
       "      <td>New York</td>\n",
       "      <td>0</td>\n",
       "    </tr>\n",
       "    <tr>\n",
       "      <th>3</th>\n",
       "      <td>4</td>\n",
       "      <td>2024-04-13 23:50:35.462850</td>\n",
       "      <td>3514.40</td>\n",
       "      <td>944</td>\n",
       "      <td>purchase</td>\n",
       "      <td>Philadelphia</td>\n",
       "      <td>0</td>\n",
       "    </tr>\n",
       "    <tr>\n",
       "      <th>4</th>\n",
       "      <td>5</td>\n",
       "      <td>2024-07-12 18:51:35.462858</td>\n",
       "      <td>369.07</td>\n",
       "      <td>475</td>\n",
       "      <td>purchase</td>\n",
       "      <td>Phoenix</td>\n",
       "      <td>0</td>\n",
       "    </tr>\n",
       "  </tbody>\n",
       "</table>\n",
       "</div>"
      ],
      "text/plain": [
       "   TransactionID             TransactionDate   Amount  MerchantID  \\\n",
       "0              1  2024-04-03 14:15:35.462794  4189.27         688   \n",
       "1              2  2024-03-19 13:20:35.462824  2659.71         109   \n",
       "2              3  2024-01-08 10:08:35.462834   784.00         394   \n",
       "3              4  2024-04-13 23:50:35.462850  3514.40         944   \n",
       "4              5  2024-07-12 18:51:35.462858   369.07         475   \n",
       "\n",
       "  TransactionType      Location  IsFraud  \n",
       "0          refund   San Antonio        0  \n",
       "1          refund        Dallas        0  \n",
       "2        purchase      New York        0  \n",
       "3        purchase  Philadelphia        0  \n",
       "4        purchase       Phoenix        0  "
      ]
     },
     "execution_count": 5,
     "metadata": {},
     "output_type": "execute_result"
    }
   ],
   "source": [
    "df.head()"
   ]
  },
  {
   "cell_type": "code",
   "execution_count": 7,
   "id": "dc5f8506-f685-4a64-b9cf-1be11b5eb5ae",
   "metadata": {},
   "outputs": [
    {
     "name": "stdout",
     "output_type": "stream",
     "text": [
      "<class 'pandas.core.frame.DataFrame'>\n",
      "RangeIndex: 100000 entries, 0 to 99999\n",
      "Data columns (total 7 columns):\n",
      " #   Column           Non-Null Count   Dtype  \n",
      "---  ------           --------------   -----  \n",
      " 0   TransactionID    100000 non-null  int64  \n",
      " 1   TransactionDate  100000 non-null  object \n",
      " 2   Amount           100000 non-null  float64\n",
      " 3   MerchantID       100000 non-null  int64  \n",
      " 4   TransactionType  100000 non-null  object \n",
      " 5   Location         100000 non-null  object \n",
      " 6   IsFraud          100000 non-null  int64  \n",
      "dtypes: float64(1), int64(3), object(3)\n",
      "memory usage: 5.3+ MB\n"
     ]
    }
   ],
   "source": [
    "df.info()"
   ]
  },
  {
   "cell_type": "code",
   "execution_count": 9,
   "id": "d5116e95-f7e6-4b37-b6c6-b8e725622747",
   "metadata": {},
   "outputs": [
    {
     "data": {
      "text/plain": [
       "TransactionID      0\n",
       "TransactionDate    0\n",
       "Amount             0\n",
       "MerchantID         0\n",
       "TransactionType    0\n",
       "Location           0\n",
       "IsFraud            0\n",
       "dtype: int64"
      ]
     },
     "execution_count": 9,
     "metadata": {},
     "output_type": "execute_result"
    }
   ],
   "source": [
    "df.isna().sum()"
   ]
  },
  {
   "cell_type": "code",
   "execution_count": 11,
   "id": "6a0f9b23-9b72-4f23-a38c-25cb67ff2a12",
   "metadata": {},
   "outputs": [
    {
     "name": "stdout",
     "output_type": "stream",
     "text": [
      "Class distribution in the entire dataset:\n",
      "IsFraud\n",
      "0    99000\n",
      "1     1000\n",
      "Name: count, dtype: int64\n"
     ]
    }
   ],
   "source": [
    "total_class_distribution = df['IsFraud'].value_counts()\n",
    "print(\"Class distribution in the entire dataset:\")\n",
    "print(total_class_distribution)"
   ]
  },
  {
   "cell_type": "code",
   "execution_count": 13,
   "id": "d407fe40-a38e-43bf-b0cf-b5d104e97539",
   "metadata": {},
   "outputs": [
    {
     "data": {
      "text/plain": [
       "0"
      ]
     },
     "execution_count": 13,
     "metadata": {},
     "output_type": "execute_result"
    }
   ],
   "source": [
    "df.duplicated().sum()"
   ]
  },
  {
   "cell_type": "code",
   "execution_count": 17,
   "id": "f4afb1ac-98ac-472f-8334-8b7785ce8435",
   "metadata": {},
   "outputs": [
    {
     "data": {
      "text/plain": [
       "37148    0\n",
       "Name: IsFraud, dtype: int64"
      ]
     },
     "execution_count": 17,
     "metadata": {},
     "output_type": "execute_result"
    }
   ],
   "source": [
    "max_value = df['Amount'].max()\n",
    "df.loc[df['Amount'] == max_value, 'IsFraud']"
   ]
  },
  {
   "cell_type": "code",
   "execution_count": 21,
   "id": "07cc144e-7e84-4354-8a67-442bf18e54ec",
   "metadata": {},
   "outputs": [
    {
     "name": "stdout",
     "output_type": "stream",
     "text": [
      "       TransactionID             TransactionDate   Amount  MerchantID  \\\n",
      "190              191  2024-09-07 18:24:35.463748  1703.80         916   \n",
      "191              192  2024-04-27 01:48:35.463751  4248.10         862   \n",
      "208              209  2023-11-05 01:05:35.463826  1641.32         826   \n",
      "319              320  2024-06-16 18:30:35.464289   281.18         237   \n",
      "370              371  2023-10-29 04:09:35.464522  3047.66         789   \n",
      "...              ...                         ...      ...         ...   \n",
      "99392          99393  2024-06-05 00:58:36.024971  3358.10         286   \n",
      "99607          99608  2023-10-27 08:34:36.026018   564.19         454   \n",
      "99614          99615  2023-11-21 04:18:36.026049  4083.63         514   \n",
      "99725          99726  2024-08-30 04:40:36.026481  3825.68          15   \n",
      "99985          99986  2023-11-09 01:03:36.027557   314.63         108   \n",
      "\n",
      "      TransactionType      Location  IsFraud  \n",
      "190          purchase      San Jose        1  \n",
      "191          purchase      San Jose        1  \n",
      "208          purchase      San Jose        1  \n",
      "319          purchase  Philadelphia        1  \n",
      "370          purchase      New York        1  \n",
      "...               ...           ...      ...  \n",
      "99392        purchase       Chicago        1  \n",
      "99607        purchase       Phoenix        1  \n",
      "99614        purchase  Philadelphia        1  \n",
      "99725          refund   Los Angeles        1  \n",
      "99985        purchase      San Jose        1  \n",
      "\n",
      "[1000 rows x 7 columns]\n"
     ]
    }
   ],
   "source": [
    "filtered_df = df[df['IsFraud'] == 1]\n",
    "print(filtered_df)"
   ]
  },
  {
   "cell_type": "code",
   "execution_count": 35,
   "id": "4ef9f2a8-c0d6-495c-bb08-1b1b57f3b2c0",
   "metadata": {},
   "outputs": [],
   "source": [
    "fraud_data = df[df['IsFraud'] == 1]\n",
    "nonfraud_data = df[df['IsFraud'] == 0]"
   ]
  },
  {
   "cell_type": "code",
   "execution_count": 49,
   "id": "8863033a-e90f-4201-ad18-26b56f5604c4",
   "metadata": {},
   "outputs": [
    {
     "name": "stdout",
     "output_type": "stream",
     "text": [
      "MerchantID\n",
      "640    5\n",
      "958    5\n",
      "156    5\n",
      "583    5\n",
      "744    4\n",
      "      ..\n",
      "204    2\n",
      "165    2\n",
      "493    2\n",
      "658    2\n",
      "209    2\n",
      "Name: count, Length: 265, dtype: int64\n"
     ]
    }
   ],
   "source": [
    "merchant_counts = fraud_data['MerchantID'].value_counts()\n",
    "\n",
    "# Filter for MerchantIDs that are repeated\n",
    "repeated_merchants = merchant_counts[merchant_counts > 1]\n",
    "\n",
    "# Display the repeated MerchantIDs and their counts\n",
    "print(repeated_merchants)"
   ]
  },
  {
   "cell_type": "code",
   "execution_count": 51,
   "id": "427454a7-4dc3-49a0-ac9a-d2d7e7c4a6c9",
   "metadata": {},
   "outputs": [
    {
     "name": "stdout",
     "output_type": "stream",
     "text": [
      "MerchantID\n",
      "461    147\n",
      "188    133\n",
      "192    129\n",
      "517    128\n",
      "820    126\n",
      "      ... \n",
      "936     74\n",
      "119     73\n",
      "968     70\n",
      "512     69\n",
      "635     69\n",
      "Name: count, Length: 1000, dtype: int64\n"
     ]
    }
   ],
   "source": [
    "merchant_counts = nonfraud_data['MerchantID'].value_counts()\n",
    "\n",
    "# Filter for MerchantIDs that are repeated\n",
    "repeated_merchants = merchant_counts[merchant_counts > 1]\n",
    "\n",
    "# Display the repeated MerchantIDs and their counts\n",
    "print(repeated_merchants)"
   ]
  },
  {
   "cell_type": "code",
   "execution_count": 55,
   "id": "70650e8b-727d-4f31-a15a-6977d32909a5",
   "metadata": {},
   "outputs": [
    {
     "name": "stdout",
     "output_type": "stream",
     "text": [
      "Common merchants between Class 1 and Class 0: {1, 3, 4, 5, 6, 9, 11, 12, 15, 17, 18, 19, 20, 21, 23, 25, 28, 29, 30, 31, 32, 33, 37, 38, 41, 42, 43, 44, 45, 46, 47, 48, 49, 51, 52, 53, 55, 56, 57, 59, 60, 61, 62, 63, 64, 65, 66, 67, 69, 70, 71, 73, 75, 76, 77, 79, 85, 87, 94, 95, 97, 98, 101, 102, 104, 105, 106, 107, 108, 109, 110, 111, 112, 113, 115, 116, 118, 119, 120, 123, 124, 126, 127, 129, 131, 132, 134, 135, 136, 137, 138, 139, 144, 145, 146, 152, 156, 157, 159, 160, 161, 162, 164, 165, 168, 169, 170, 174, 176, 177, 178, 179, 180, 181, 182, 184, 185, 186, 187, 188, 191, 196, 197, 198, 202, 204, 207, 208, 209, 210, 213, 214, 216, 218, 219, 222, 224, 225, 226, 230, 231, 232, 234, 235, 236, 237, 239, 240, 241, 242, 243, 244, 245, 246, 247, 248, 252, 253, 254, 255, 256, 257, 259, 261, 263, 264, 265, 266, 267, 268, 269, 273, 276, 277, 278, 279, 280, 282, 284, 285, 286, 287, 288, 290, 292, 293, 294, 295, 304, 305, 306, 308, 309, 310, 311, 312, 313, 314, 315, 316, 317, 318, 321, 322, 324, 325, 326, 327, 330, 336, 338, 340, 341, 342, 344, 346, 347, 351, 353, 354, 355, 356, 358, 360, 362, 363, 364, 366, 367, 370, 371, 373, 374, 376, 382, 383, 384, 386, 387, 389, 390, 392, 393, 394, 396, 397, 400, 401, 402, 404, 406, 407, 408, 409, 412, 414, 416, 417, 419, 420, 422, 425, 426, 427, 429, 431, 433, 434, 436, 437, 440, 441, 442, 444, 446, 449, 451, 452, 454, 455, 456, 459, 461, 462, 464, 468, 470, 471, 472, 473, 474, 475, 476, 477, 478, 479, 480, 481, 482, 484, 485, 488, 492, 493, 494, 496, 497, 500, 501, 503, 504, 505, 507, 508, 513, 514, 519, 521, 522, 523, 524, 525, 526, 527, 528, 529, 530, 531, 534, 535, 536, 537, 538, 539, 540, 541, 543, 544, 545, 546, 547, 548, 549, 550, 551, 552, 554, 555, 556, 558, 559, 561, 562, 563, 565, 566, 567, 568, 569, 570, 572, 574, 577, 578, 580, 581, 582, 583, 584, 585, 587, 588, 590, 593, 595, 596, 597, 598, 599, 600, 602, 605, 607, 608, 610, 612, 613, 614, 615, 616, 617, 618, 619, 620, 621, 624, 625, 626, 628, 630, 631, 633, 635, 636, 637, 638, 639, 640, 641, 642, 644, 646, 647, 650, 651, 652, 654, 655, 657, 658, 659, 660, 661, 662, 663, 664, 665, 666, 667, 670, 671, 673, 674, 675, 677, 680, 681, 684, 686, 687, 693, 695, 696, 698, 699, 700, 703, 706, 708, 709, 712, 713, 715, 716, 717, 719, 720, 723, 724, 725, 726, 727, 728, 729, 730, 732, 733, 734, 736, 737, 740, 741, 742, 744, 747, 749, 751, 753, 754, 755, 758, 761, 762, 766, 769, 770, 771, 772, 773, 774, 775, 777, 778, 779, 782, 784, 785, 786, 787, 789, 791, 792, 795, 797, 800, 802, 803, 804, 805, 806, 807, 808, 809, 810, 811, 812, 814, 815, 816, 817, 818, 819, 822, 825, 826, 827, 828, 829, 830, 831, 834, 836, 837, 838, 839, 841, 844, 847, 850, 851, 852, 854, 855, 859, 860, 861, 862, 865, 866, 868, 869, 870, 871, 872, 874, 875, 876, 877, 878, 880, 881, 882, 883, 884, 885, 886, 889, 890, 893, 895, 896, 900, 902, 903, 904, 905, 906, 910, 912, 913, 914, 916, 917, 919, 920, 922, 923, 925, 926, 927, 928, 930, 932, 933, 934, 935, 937, 939, 941, 943, 945, 946, 950, 951, 952, 955, 956, 958, 959, 960, 961, 964, 965, 966, 968, 973, 975, 976, 978, 981, 982, 986, 989, 992, 997, 998, 999, 1000}\n",
      "       TransactionID            TransactionDate   Amount  MerchantID  \\\n",
      "1                  2 2024-03-19 13:20:35.462824  2659.71         109   \n",
      "2                  3 2024-01-08 10:08:35.462834   784.00         394   \n",
      "4                  5 2024-07-12 18:51:35.462858   369.07         475   \n",
      "6                  7 2024-01-02 11:31:35.462875  1466.90         902   \n",
      "7                  8 2024-05-12 12:25:35.462885   917.21         266   \n",
      "...              ...                        ...      ...         ...   \n",
      "99990          99991 2024-01-12 17:50:36.027574  2883.93         231   \n",
      "99992          99993 2024-05-25 06:21:36.027581  3743.94         414   \n",
      "99993          99994 2024-04-20 15:33:36.027584   614.02         625   \n",
      "99998          99999 2024-10-18 09:43:36.027601  3750.79         644   \n",
      "99999         100000 2024-03-05 19:41:36.027606  1596.79         675   \n",
      "\n",
      "      TransactionType      Location  IsFraud  Hour  \n",
      "1              refund        Dallas        0    13  \n",
      "2            purchase      New York        0    10  \n",
      "4            purchase       Phoenix        0    18  \n",
      "6              refund  Philadelphia        0    11  \n",
      "7            purchase      New York        0    12  \n",
      "...               ...           ...      ...   ...  \n",
      "99990          refund      New York        0    17  \n",
      "99992        purchase       Chicago        0     6  \n",
      "99993          refund       Phoenix        0    15  \n",
      "99998        purchase  Philadelphia        0     9  \n",
      "99999          refund       Houston        0    19  \n",
      "\n",
      "[63406 rows x 8 columns]\n"
     ]
    }
   ],
   "source": [
    "class_1_merchants = set(df[df['IsFraud'] == 1]['MerchantID'])\n",
    "class_0_merchants = set(df[df['IsFraud'] == 0]['MerchantID'])\n",
    "\n",
    "# Find common MerchantIDs between the two classes\n",
    "common_merchants = class_1_merchants.intersection(class_0_merchants)\n",
    "\n",
    "# Print the result\n",
    "if common_merchants:\n",
    "    print(f\"Common merchants between Class 1 and Class 0: {common_merchants}\")\n",
    "else:\n",
    "    print(\"No common merchants between Class 1 and Class 0.\")\n",
    "\n",
    "\n",
    "common_merchant_data = df[df['MerchantID'].isin(common_merchants)]\n",
    "print(common_merchant_data)\n"
   ]
  },
  {
   "cell_type": "code",
   "execution_count": 59,
   "id": "de2446c1-abf5-4306-9399-3a4b3ad6663c",
   "metadata": {},
   "outputs": [
    {
     "name": "stdout",
     "output_type": "stream",
     "text": [
      "       TransactionID            TransactionDate   Amount  MerchantID  \\\n",
      "72937          72938 2024-07-23 05:41:35.903931  3410.14         673   \n",
      "\n",
      "      TransactionType  Location  IsFraud  Hour         TimeDifference  \\\n",
      "72937          refund  San Jose        1     5 0 days 07:17:00.237883   \n",
      "\n",
      "       ShortTimeGap  \n",
      "72937          True  \n"
     ]
    }
   ],
   "source": [
    "df['TransactionDate'] = pd.to_datetime(df['TransactionDate'])\n",
    "\n",
    "# Filter data for Class = 1\n",
    "class_1_data = df[df['IsFraud'] == 1]\n",
    "\n",
    "# Sort by MerchantID and TransactionDate\n",
    "class_1_data = class_1_data.sort_values(by=['MerchantID', 'TransactionDate'])\n",
    "\n",
    "# Calculate time difference between consecutive transactions for the same merchant\n",
    "class_1_data['TimeDifference'] = class_1_data.groupby('MerchantID')['TransactionDate'].diff()\n",
    "\n",
    "# Define a short period of time (e.g., less than 1 day)\n",
    "short_period = pd.Timedelta(hours=24)  # Adjust as needed\n",
    "\n",
    "# Flag transactions within the short period\n",
    "class_1_data['ShortTimeGap'] = class_1_data['TimeDifference'] <= short_period\n",
    "\n",
    "# Filter transactions that have a short time gap\n",
    "suspicious_transactions = class_1_data[class_1_data['ShortTimeGap']]\n",
    "\n",
    "# Display the suspicious transactions\n",
    "print(suspicious_transactions)"
   ]
  },
  {
   "cell_type": "code",
   "execution_count": 61,
   "id": "b8cb0877-1501-4d36-a51e-46798259c015",
   "metadata": {},
   "outputs": [
    {
     "name": "stdout",
     "output_type": "stream",
     "text": [
      "       TransactionID            TransactionDate   Amount  MerchantID  \\\n",
      "2522            2523 2023-12-22 05:18:35.482932  1374.17           1   \n",
      "70584          70585 2023-12-27 03:23:35.890863  4757.45           1   \n",
      "54787          54788 2024-01-09 09:10:35.797276   407.15           1   \n",
      "14228          14229 2024-01-13 16:00:35.533091  2864.05           1   \n",
      "59393          59394 2024-01-19 06:12:35.825497  3079.97           1   \n",
      "...              ...                        ...      ...         ...   \n",
      "19669          19670 2024-08-28 02:29:35.557418   357.59        1000   \n",
      "14415          14416 2024-09-03 16:09:35.533877   777.92        1000   \n",
      "94593          94594 2024-10-01 21:47:36.004486  1011.40        1000   \n",
      "61806          61807 2024-10-02 00:49:35.837856  2227.77        1000   \n",
      "70029          70030 2024-10-02 04:59:35.887956  3205.37        1000   \n",
      "\n",
      "      TransactionType     Location  IsFraud  Hour         TimeDifference  \\\n",
      "2522           refund      Houston        0     5 0 days 11:33:59.736369   \n",
      "70584          refund  San Antonio        0     3 0 days 02:06:00.324439   \n",
      "54787          refund  Los Angeles        0     9 0 days 09:37:00.331059   \n",
      "14228        purchase    San Diego        0    16 0 days 19:10:59.567717   \n",
      "59393          refund  Los Angeles        0     6 0 days 05:34:00.330651   \n",
      "...               ...          ...      ...   ...                    ...   \n",
      "19669          refund      Chicago        0     2 0 days 03:47:59.906924   \n",
      "14415          refund     San Jose        0    16 0 days 21:46:59.585567   \n",
      "94593        purchase  Los Angeles        0    21 0 days 00:54:00.257742   \n",
      "61806        purchase     San Jose        0     0 0 days 03:01:59.833370   \n",
      "70029          refund  San Antonio        0     4 0 days 04:10:00.050100   \n",
      "\n",
      "       ShortTimeGap  \n",
      "2522           True  \n",
      "70584          True  \n",
      "54787          True  \n",
      "14228          True  \n",
      "59393          True  \n",
      "...             ...  \n",
      "19669          True  \n",
      "14415          True  \n",
      "94593          True  \n",
      "61806          True  \n",
      "70029          True  \n",
      "\n",
      "[23386 rows x 10 columns]\n"
     ]
    }
   ],
   "source": [
    "df['TransactionDate'] = pd.to_datetime(df['TransactionDate'])\n",
    "\n",
    "# Filter data for Class = 1\n",
    "class_1_data = df[df['IsFraud'] == 0]\n",
    "\n",
    "# Sort by MerchantID and TransactionDate\n",
    "class_1_data = class_1_data.sort_values(by=['MerchantID', 'TransactionDate'])\n",
    "\n",
    "# Calculate time difference between consecutive transactions for the same merchant\n",
    "class_1_data['TimeDifference'] = class_1_data.groupby('MerchantID')['TransactionDate'].diff()\n",
    "\n",
    "# Define a short period of time (e.g., less than 1 day)\n",
    "short_period = pd.Timedelta(hours=24)  # Adjust as needed\n",
    "\n",
    "# Flag transactions within the short period\n",
    "class_1_data['ShortTimeGap'] = class_1_data['TimeDifference'] <= short_period\n",
    "\n",
    "# Filter transactions that have a short time gap\n",
    "suspicious_transactions = class_1_data[class_1_data['ShortTimeGap']]\n",
    "\n",
    "# Display the suspicious transactions\n",
    "print(suspicious_transactions)"
   ]
  },
  {
   "cell_type": "code",
   "execution_count": 39,
   "id": "f31f9769-ce90-4aee-b36d-a1a1fbcf47d1",
   "metadata": {},
   "outputs": [
    {
     "data": {
      "image/png": "[encoded data removed]",
      "text/plain": [
       "<Figure size 640x480 with 1 Axes>"
      ]
     },
     "metadata": {},
     "output_type": "display_data"
    },
    {
     "data": {
      "image/png": "[encoded data removed]",
      "text/plain": [
       "<Figure size 640x480 with 1 Axes>"
      ]
     },
     "metadata": {},
     "output_type": "display_data"
    }
   ],
   "source": [
    "import matplotlib.pyplot as plt\n",
    "fraud_data['Amount'].hist(bins=20)\n",
    "plt.title('Distribution of Amount for Class = 1')\n",
    "plt.xlabel('Amount')\n",
    "plt.ylabel('Frequency')\n",
    "plt.show()\n",
    "\n",
    "nonfraud_data['Amount'].hist(bins=20)\n",
    "plt.title('Distribution of Amount for Class = 0')\n",
    "plt.xlabel('Amount')\n",
    "plt.ylabel('Frequency')\n",
    "plt.show()\n"
   ]
  },
  {
   "cell_type": "code",
   "execution_count": 41,
   "id": "768ca845-65bb-46c5-b812-279d80ced2df",
   "metadata": {},
   "outputs": [
    {
     "data": {
      "image/png": "[encoded data removed]",
      "text/plain": [
       "<Figure size 640x480 with 1 Axes>"
      ]
     },
     "metadata": {},
     "output_type": "display_data"
    }
   ],
   "source": [
    "import seaborn as sns\n",
    "sns.boxplot(data=fraud_data, x='Amount')\n",
    "plt.title('Box Plot of Amount for Class = 1')\n",
    "plt.show()"
   ]
  },
  {
   "cell_type": "code",
   "execution_count": null,
   "id": "89607623-27c2-4a57-81dc-089729d3a3bc",
   "metadata": {},
   "outputs": [],
   "source": []
  }
 ],
 "metadata": {
  "kernelspec": {
   "display_name": "Python 3 (ipykernel)",
   "language": "python",
   "name": "python3"
  },
  "language_info": {
   "codemirror_mode": {
    "name": "ipython",
    "version": 3
   },
   "file_extension": ".py",
   "mimetype": "text/x-python",
   "name": "python",
   "nbconvert_exporter": "python",
   "pygments_lexer": "ipython3",
   "version": "3.12.4"
  }
 },
 "nbformat": 4,
 "nbformat_minor": 5
}
